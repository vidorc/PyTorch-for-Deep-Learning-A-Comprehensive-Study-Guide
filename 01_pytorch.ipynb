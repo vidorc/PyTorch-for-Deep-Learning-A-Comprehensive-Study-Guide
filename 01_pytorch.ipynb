{
  "nbformat": 4,
  "nbformat_minor": 0,
  "metadata": {
    "colab": {
      "provenance": [],
      "gpuType": "T4",
      "authorship_tag": "ABX9TyMMOgPty/wSm+5ed3h27uNg",
      "include_colab_link": true
    },
    "kernelspec": {
      "name": "python3",
      "display_name": "Python 3"
    },
    "language_info": {
      "name": "python"
    },
    "accelerator": "GPU"
  },
  "cells": [
    {
      "cell_type": "markdown",
      "metadata": {
        "id": "view-in-github",
        "colab_type": "text"
      },
      "source": [
        "<a href=\"https://colab.research.google.com/github/vidorc/PyTorch-for-Deep-Learning-A-Comprehensive-Study-Guide/blob/main/01_pytorch.ipynb\" target=\"_parent\"><img src=\"https://colab.research.google.com/assets/colab-badge.svg\" alt=\"Open In Colab\"/></a>"
      ]
    },
    {
      "cell_type": "code",
      "source": [
        "import torch"
      ],
      "metadata": {
        "id": "Grd72bJlk6rJ"
      },
      "execution_count": null,
      "outputs": []
    },
    {
      "cell_type": "code",
      "execution_count": null,
      "metadata": {
        "id": "owEJR0obq7YM"
      },
      "outputs": [],
      "source": [
        "random_tensor = torch.rand(10,10,10)"
      ]
    },
    {
      "cell_type": "code",
      "source": [
        "random_tensor"
      ],
      "metadata": {
        "colab": {
          "base_uri": "https://localhost:8080/"
        },
        "id": "kYfU61hflH_y",
        "outputId": "973675bd-26e9-4780-caa8-0e267d7a0fad"
      },
      "execution_count": null,
      "outputs": [
        {
          "output_type": "execute_result",
          "data": {
            "text/plain": [
              "tensor([[[0.8052, 0.9485, 0.6962, 0.3170, 0.9316, 0.9201, 0.1799, 0.3987,\n",
              "          0.8904, 0.9111],\n",
              "         [0.5888, 0.9204, 0.6471, 0.0879, 0.9407, 0.5106, 0.4860, 0.4032,\n",
              "          0.3134, 0.1682],\n",
              "         [0.4333, 0.0449, 0.3051, 0.2350, 0.8041, 0.6537, 0.4222, 0.9924,\n",
              "          0.4374, 0.4859],\n",
              "         [0.7876, 0.8421, 0.8936, 0.1430, 0.8725, 0.9863, 0.7860, 0.5784,\n",
              "          0.3785, 0.3141],\n",
              "         [0.5946, 0.1098, 0.1811, 0.4683, 0.4860, 0.5045, 0.0471, 0.4676,\n",
              "          0.0318, 0.2781],\n",
              "         [0.6237, 0.4609, 0.8029, 0.4058, 0.7677, 0.7706, 0.4589, 0.7111,\n",
              "          0.0920, 0.9635],\n",
              "         [0.0567, 0.6364, 0.7072, 0.4326, 0.0862, 0.9920, 0.8231, 0.8410,\n",
              "          0.5124, 0.8447],\n",
              "         [0.1334, 0.9151, 0.0348, 0.9514, 0.2707, 0.1690, 0.6121, 0.1231,\n",
              "          0.7201, 0.5063],\n",
              "         [0.4499, 0.2684, 0.0320, 0.3649, 0.5654, 0.6547, 0.6264, 0.5410,\n",
              "          0.8486, 0.1014],\n",
              "         [0.9861, 0.6656, 0.7579, 0.9305, 0.2082, 0.9609, 0.3898, 0.8881,\n",
              "          0.6102, 0.3055]],\n",
              "\n",
              "        [[0.3751, 0.5929, 0.1530, 0.5368, 0.1246, 0.1725, 0.9064, 0.9323,\n",
              "          0.2856, 0.0824],\n",
              "         [0.3323, 0.2428, 0.6305, 0.1053, 0.9225, 0.8312, 0.4323, 0.3023,\n",
              "          0.8109, 0.9865],\n",
              "         [0.2540, 0.1432, 0.8226, 0.6172, 0.6442, 0.5411, 0.0925, 0.6149,\n",
              "          0.5603, 0.4642],\n",
              "         [0.5534, 0.4817, 0.3746, 0.3410, 0.8672, 0.5495, 0.3083, 0.3030,\n",
              "          0.6589, 0.9420],\n",
              "         [0.8246, 0.6701, 0.2740, 0.4518, 0.9159, 0.0749, 0.8386, 0.3176,\n",
              "          0.3085, 0.7549],\n",
              "         [0.0117, 0.5249, 0.0427, 0.9061, 0.5922, 0.9280, 0.5178, 0.4292,\n",
              "          0.6408, 0.8151],\n",
              "         [0.1577, 0.7384, 0.1551, 0.2544, 0.7995, 0.9819, 0.6125, 0.8906,\n",
              "          0.2420, 0.2456],\n",
              "         [0.6590, 0.4338, 0.1738, 0.1171, 0.7199, 0.6426, 0.7148, 0.6669,\n",
              "          0.0153, 0.3051],\n",
              "         [0.3162, 0.5175, 0.8399, 0.1670, 0.1223, 0.5445, 0.2582, 0.5848,\n",
              "          0.8356, 0.7189],\n",
              "         [0.2802, 0.5011, 0.4302, 0.5487, 0.7067, 0.8165, 0.2120, 0.9036,\n",
              "          0.1989, 0.6632]],\n",
              "\n",
              "        [[0.6778, 0.9319, 0.5810, 0.0040, 0.2134, 0.4202, 0.4899, 0.3651,\n",
              "          0.6335, 0.9439],\n",
              "         [0.5901, 0.5111, 0.9450, 0.2896, 0.0623, 0.9866, 0.2962, 0.3906,\n",
              "          0.8319, 0.8430],\n",
              "         [0.6776, 0.7948, 0.4722, 0.3671, 0.9494, 0.0435, 0.2276, 0.0747,\n",
              "          0.0125, 0.6610],\n",
              "         [0.8297, 0.8189, 0.1930, 0.7930, 0.8785, 0.2625, 0.8226, 0.7914,\n",
              "          0.1580, 0.3336],\n",
              "         [0.7406, 0.8455, 0.8222, 0.1907, 0.2302, 0.7474, 0.8493, 0.8250,\n",
              "          0.5641, 0.2496],\n",
              "         [0.1298, 0.9160, 0.8610, 0.6716, 0.9975, 0.0022, 0.6683, 0.5508,\n",
              "          0.4718, 0.9442],\n",
              "         [0.8950, 0.8210, 0.5690, 0.9766, 0.1772, 0.8794, 0.7400, 0.9992,\n",
              "          0.9278, 0.5523],\n",
              "         [0.9271, 0.3585, 0.1725, 0.7847, 0.5027, 0.0185, 0.9791, 0.2686,\n",
              "          0.0536, 0.0170],\n",
              "         [0.6081, 0.4928, 0.4244, 0.2866, 0.7033, 0.0281, 0.0652, 0.1157,\n",
              "          0.5711, 0.5579],\n",
              "         [0.1965, 0.7989, 0.2012, 0.3550, 0.7470, 0.3592, 0.4499, 0.3683,\n",
              "          0.7285, 0.9470]],\n",
              "\n",
              "        [[0.6274, 0.6525, 0.5516, 0.8504, 0.3884, 0.7316, 0.4335, 0.7968,\n",
              "          0.9726, 0.4538],\n",
              "         [0.1235, 0.7829, 0.1756, 0.0115, 0.8532, 0.3152, 0.4003, 0.3253,\n",
              "          0.8947, 0.7816],\n",
              "         [0.9212, 0.6962, 0.0509, 0.0574, 0.7928, 0.9210, 0.5548, 0.8975,\n",
              "          0.1817, 0.5741],\n",
              "         [0.8604, 0.4377, 0.9764, 0.4788, 0.2029, 0.6346, 0.5782, 0.0032,\n",
              "          0.0186, 0.9290],\n",
              "         [0.0280, 0.8579, 0.1825, 0.5249, 0.9048, 0.6813, 0.3668, 0.3470,\n",
              "          0.0912, 0.0880],\n",
              "         [0.7084, 0.8836, 0.1477, 0.5866, 0.8751, 0.8910, 0.6243, 0.0281,\n",
              "          0.7778, 0.5363],\n",
              "         [0.9898, 0.1726, 0.4955, 0.9283, 0.1756, 0.0163, 0.8810, 0.4218,\n",
              "          0.3044, 0.4800],\n",
              "         [0.0669, 0.2773, 0.3597, 0.9725, 0.9728, 0.2450, 0.7254, 0.4029,\n",
              "          0.1179, 0.1487],\n",
              "         [0.1423, 0.6838, 0.1365, 0.8564, 0.4251, 0.1901, 0.4871, 0.4439,\n",
              "          0.3072, 0.5243],\n",
              "         [0.8957, 0.0290, 0.0750, 0.7724, 0.2685, 0.8349, 0.6262, 0.4571,\n",
              "          0.3058, 0.9787]],\n",
              "\n",
              "        [[0.5492, 0.9357, 0.6034, 0.3320, 0.1562, 0.0841, 0.1927, 0.8485,\n",
              "          0.8237, 0.3636],\n",
              "         [0.4143, 0.9629, 0.1071, 0.7418, 0.3457, 0.0736, 0.2267, 0.3080,\n",
              "          0.8859, 0.8226],\n",
              "         [0.3038, 0.3472, 0.5334, 0.7515, 0.7595, 0.0035, 0.2968, 0.0740,\n",
              "          0.3045, 0.6045],\n",
              "         [0.2532, 0.7911, 0.5333, 0.8015, 0.1098, 0.0333, 0.0762, 0.4560,\n",
              "          0.8089, 0.6123],\n",
              "         [0.9134, 0.8282, 0.7119, 0.0861, 0.5999, 0.9837, 0.8877, 0.7727,\n",
              "          0.6977, 0.3252],\n",
              "         [0.9477, 0.5143, 0.3457, 0.1785, 0.2672, 0.6884, 0.7370, 0.9920,\n",
              "          0.8274, 0.6113],\n",
              "         [0.3254, 0.2876, 0.7082, 0.0424, 0.4372, 0.2549, 0.2131, 0.3095,\n",
              "          0.3671, 0.2672],\n",
              "         [0.8918, 0.6613, 0.3017, 0.2258, 0.1979, 0.0071, 0.9977, 0.2792,\n",
              "          0.9241, 0.4272],\n",
              "         [0.1686, 0.9170, 0.5874, 0.0644, 0.2929, 0.9950, 0.7675, 0.4413,\n",
              "          0.0728, 0.2596],\n",
              "         [0.1437, 0.3255, 0.1758, 0.4737, 0.0400, 0.6919, 0.2153, 0.5207,\n",
              "          0.4520, 0.9671]],\n",
              "\n",
              "        [[0.2711, 0.5483, 0.4349, 0.0957, 0.0857, 0.0862, 0.5624, 0.7605,\n",
              "          0.2984, 0.5996],\n",
              "         [0.8905, 0.1451, 0.4007, 0.0914, 0.0179, 0.2614, 0.2164, 0.3548,\n",
              "          0.3594, 0.7910],\n",
              "         [0.3312, 0.5837, 0.4686, 0.0279, 0.0616, 0.4384, 0.4345, 0.9673,\n",
              "          0.1611, 0.6778],\n",
              "         [0.5252, 0.0655, 0.7685, 0.3626, 0.5371, 0.4427, 0.2281, 0.3733,\n",
              "          0.3507, 0.3496],\n",
              "         [0.5325, 0.3318, 0.3256, 0.4947, 0.7130, 0.1516, 0.0091, 0.9632,\n",
              "          0.6804, 0.7184],\n",
              "         [0.3078, 0.1352, 0.0622, 0.1560, 0.7684, 0.1243, 0.8863, 0.9127,\n",
              "          0.6310, 0.7321],\n",
              "         [0.9950, 0.4139, 0.1139, 0.3461, 0.7053, 0.9016, 0.4739, 0.0898,\n",
              "          0.7933, 0.5249],\n",
              "         [0.4140, 0.9075, 0.5433, 0.7657, 0.0189, 0.7787, 0.2849, 0.0178,\n",
              "          0.4108, 0.0596],\n",
              "         [0.2105, 0.4678, 0.4440, 0.2545, 0.3028, 0.2794, 0.0760, 0.9745,\n",
              "          0.5823, 0.2222],\n",
              "         [0.8244, 0.8873, 0.9993, 0.9995, 0.9359, 0.1969, 0.1116, 0.8355,\n",
              "          0.4807, 0.7395]],\n",
              "\n",
              "        [[0.2532, 0.0711, 0.4115, 0.2236, 0.9407, 0.6415, 0.5462, 0.6607,\n",
              "          0.9872, 0.9411],\n",
              "         [0.8556, 0.2725, 0.5963, 0.2579, 0.1741, 0.9283, 0.2453, 0.1831,\n",
              "          0.8454, 0.5185],\n",
              "         [0.5932, 0.1615, 0.6584, 0.0802, 0.4456, 0.2319, 0.9525, 0.0179,\n",
              "          0.1886, 0.8075],\n",
              "         [0.5682, 0.0906, 0.7025, 0.9903, 0.2554, 0.5614, 0.0072, 0.6365,\n",
              "          0.9065, 0.5970],\n",
              "         [0.8361, 0.4370, 0.3062, 0.9774, 0.5609, 0.0762, 0.8487, 0.1435,\n",
              "          0.7281, 0.8682],\n",
              "         [0.7240, 0.6005, 0.7844, 0.6948, 0.2316, 0.5119, 0.3579, 0.7580,\n",
              "          0.3559, 0.4799],\n",
              "         [0.7994, 0.9928, 0.8835, 0.2146, 0.7680, 0.8020, 0.4583, 0.9889,\n",
              "          0.9105, 0.3809],\n",
              "         [0.6189, 0.8953, 0.7925, 0.9674, 0.1387, 0.4370, 0.9354, 0.4378,\n",
              "          0.9972, 0.5003],\n",
              "         [0.1526, 0.9912, 0.6946, 0.8135, 0.8417, 0.5974, 0.1581, 0.6427,\n",
              "          0.4105, 0.8500],\n",
              "         [0.7422, 0.7448, 0.8805, 0.8954, 0.9811, 0.6596, 0.8774, 0.9363,\n",
              "          0.5991, 0.5884]],\n",
              "\n",
              "        [[0.8158, 0.6591, 0.3561, 0.8420, 0.6988, 0.4944, 0.1420, 0.1593,\n",
              "          0.3101, 0.1001],\n",
              "         [0.3962, 0.6611, 0.6343, 0.5057, 0.5450, 0.8900, 0.9441, 0.2785,\n",
              "          0.1595, 0.0827],\n",
              "         [0.1342, 0.5358, 0.3882, 0.0842, 0.8738, 0.1011, 0.5189, 0.2637,\n",
              "          0.1016, 0.5497],\n",
              "         [0.0394, 0.5457, 0.0690, 0.3388, 0.5169, 0.1234, 0.6189, 0.3711,\n",
              "          0.3066, 0.9990],\n",
              "         [0.8888, 0.0974, 0.2071, 0.0268, 0.3933, 0.0478, 0.4825, 0.2491,\n",
              "          0.2336, 0.3777],\n",
              "         [0.4206, 0.5119, 0.7682, 0.1851, 0.7631, 0.2642, 0.8059, 0.2885,\n",
              "          0.7350, 0.7467],\n",
              "         [0.9547, 0.2573, 0.3852, 0.6992, 0.8822, 0.9716, 0.9240, 0.9279,\n",
              "          0.4288, 0.9079],\n",
              "         [0.4472, 0.3502, 0.3529, 0.7967, 0.8972, 0.2864, 0.9566, 0.8679,\n",
              "          0.0855, 0.2196],\n",
              "         [0.8271, 0.3484, 0.0816, 0.1517, 0.7315, 0.1835, 0.8150, 0.5375,\n",
              "          0.0375, 0.0679],\n",
              "         [0.7464, 0.4228, 0.0627, 0.9277, 0.3241, 0.0866, 0.0619, 0.5990,\n",
              "          0.1895, 0.0684]],\n",
              "\n",
              "        [[0.7237, 0.4025, 0.9298, 0.1692, 0.7894, 0.4959, 0.8418, 0.9278,\n",
              "          0.1433, 0.6473],\n",
              "         [0.1395, 0.1922, 0.9744, 0.5407, 0.1713, 0.2863, 0.0116, 0.7490,\n",
              "          0.6597, 0.2412],\n",
              "         [0.5807, 0.9220, 0.8972, 0.2575, 0.7564, 0.0732, 0.5513, 0.0226,\n",
              "          0.6780, 0.9827],\n",
              "         [0.1237, 0.5775, 0.2048, 0.8899, 0.1809, 0.3122, 0.4827, 0.1881,\n",
              "          0.1458, 0.2889],\n",
              "         [0.7524, 0.6303, 0.1241, 0.8882, 0.1150, 0.3865, 0.7294, 0.5864,\n",
              "          0.4149, 0.7721],\n",
              "         [0.9702, 0.7567, 0.7210, 0.4057, 0.6383, 0.6295, 0.0656, 0.9077,\n",
              "          0.5711, 0.0212],\n",
              "         [0.4994, 0.2226, 0.1170, 0.0749, 0.9759, 0.4812, 0.1306, 0.0461,\n",
              "          0.2614, 0.0213],\n",
              "         [0.8524, 0.2351, 0.6121, 0.7885, 0.5146, 0.3707, 0.5896, 0.8947,\n",
              "          0.0139, 0.2140],\n",
              "         [0.8509, 0.1048, 0.8690, 0.6925, 0.3920, 0.1795, 0.4419, 0.1841,\n",
              "          0.3136, 0.0728],\n",
              "         [0.6298, 0.0392, 0.1685, 0.9619, 0.3624, 0.5967, 0.6976, 0.0272,\n",
              "          0.9957, 0.0692]],\n",
              "\n",
              "        [[0.3150, 0.3499, 0.8369, 0.9362, 0.2117, 0.5375, 0.3613, 0.1811,\n",
              "          0.8222, 0.2004],\n",
              "         [0.6236, 0.3851, 0.8677, 0.1913, 0.6078, 0.1167, 0.6033, 0.2186,\n",
              "          0.6363, 0.1236],\n",
              "         [0.9134, 0.3533, 0.2857, 0.3308, 0.1046, 0.7350, 0.6976, 0.8074,\n",
              "          0.4218, 0.0354],\n",
              "         [0.4598, 0.7218, 0.8727, 0.8555, 0.7336, 0.6122, 0.9896, 0.8666,\n",
              "          0.7785, 0.2229],\n",
              "         [0.9634, 0.9118, 0.4283, 0.5719, 0.5147, 0.8127, 0.3517, 0.6930,\n",
              "          0.8570, 0.9974],\n",
              "         [0.8281, 0.2992, 0.6751, 0.1822, 0.3093, 0.0168, 0.7021, 0.3861,\n",
              "          0.6073, 0.6989],\n",
              "         [0.9822, 0.3663, 0.0584, 0.6819, 0.2325, 0.1492, 0.4140, 0.0053,\n",
              "          0.1923, 0.9829],\n",
              "         [0.9762, 0.1300, 0.1785, 0.8321, 0.0502, 0.4638, 0.1304, 0.2260,\n",
              "          0.1615, 0.7313],\n",
              "         [0.6917, 0.6359, 0.3475, 0.3509, 0.7588, 0.1582, 0.6973, 0.0510,\n",
              "          0.0755, 0.6812],\n",
              "         [0.1008, 0.3945, 0.5587, 0.1064, 0.9497, 0.4181, 0.8822, 0.3544,\n",
              "          0.9605, 0.6950]]])"
            ]
          },
          "metadata": {},
          "execution_count": 60
        }
      ]
    },
    {
      "cell_type": "code",
      "source": [
        "10*10*10\n"
      ],
      "metadata": {
        "colab": {
          "base_uri": "https://localhost:8080/"
        },
        "id": "r4XYFJdGlJEF",
        "outputId": "486ad918-9efe-4cdf-ced9-fb18415f14b1"
      },
      "execution_count": null,
      "outputs": [
        {
          "output_type": "execute_result",
          "data": {
            "text/plain": [
              "1000"
            ]
          },
          "metadata": {},
          "execution_count": 61
        }
      ]
    },
    {
      "cell_type": "code",
      "source": [
        "random_image_tensor = torch.rand(size=(3,224,224))\n",
        "random_image_tensor"
      ],
      "metadata": {
        "colab": {
          "base_uri": "https://localhost:8080/"
        },
        "id": "FwcyJdr7lSow",
        "outputId": "65e66ec2-1cbc-4086-9b52-ec1cc221c67c"
      },
      "execution_count": null,
      "outputs": [
        {
          "output_type": "execute_result",
          "data": {
            "text/plain": [
              "tensor([[[0.4451, 0.6453, 0.6364,  ..., 0.1085, 0.3593, 0.4091],\n",
              "         [0.4432, 0.4015, 0.6032,  ..., 0.9546, 0.0929, 0.4874],\n",
              "         [0.8839, 0.2087, 0.3250,  ..., 0.0355, 0.2916, 0.0810],\n",
              "         ...,\n",
              "         [0.6075, 0.6384, 0.4064,  ..., 0.9911, 0.0025, 0.7820],\n",
              "         [0.6161, 0.8877, 0.3243,  ..., 0.2193, 0.0328, 0.0044],\n",
              "         [0.4860, 0.7318, 0.0627,  ..., 0.5250, 0.3967, 0.6420]],\n",
              "\n",
              "        [[0.4551, 0.3830, 0.1115,  ..., 0.4908, 0.4021, 0.4091],\n",
              "         [0.8145, 0.1836, 0.6597,  ..., 0.0795, 0.5188, 0.6212],\n",
              "         [0.0356, 0.8605, 0.1720,  ..., 0.3597, 0.1137, 0.4463],\n",
              "         ...,\n",
              "         [0.0560, 0.9788, 0.4602,  ..., 0.9951, 0.3577, 0.6300],\n",
              "         [0.9019, 0.4909, 0.9475,  ..., 0.1612, 0.3403, 0.7665],\n",
              "         [0.6849, 0.4758, 0.4563,  ..., 0.9192, 0.8010, 0.8457]],\n",
              "\n",
              "        [[0.6683, 0.3376, 0.4549,  ..., 0.9517, 0.5414, 0.4924],\n",
              "         [0.5100, 0.5444, 0.9314,  ..., 0.6143, 0.6904, 0.6000],\n",
              "         [0.5516, 0.6361, 0.6287,  ..., 0.5107, 0.6575, 0.8041],\n",
              "         ...,\n",
              "         [0.8613, 0.1241, 0.2415,  ..., 0.4288, 0.4842, 0.8642],\n",
              "         [0.9431, 0.6641, 0.4077,  ..., 0.6546, 0.3210, 0.8616],\n",
              "         [0.0149, 0.2456, 0.2498,  ..., 0.4262, 0.8472, 0.5754]]])"
            ]
          },
          "metadata": {},
          "execution_count": 62
        }
      ]
    },
    {
      "cell_type": "code",
      "source": [
        "torch.Size((3,224,224))"
      ],
      "metadata": {
        "colab": {
          "base_uri": "https://localhost:8080/"
        },
        "id": "gwSOxbAilgOr",
        "outputId": "93b30ad6-bd79-4464-9163-94be028bd36f"
      },
      "execution_count": null,
      "outputs": [
        {
          "output_type": "execute_result",
          "data": {
            "text/plain": [
              "torch.Size([3, 224, 224])"
            ]
          },
          "metadata": {},
          "execution_count": 63
        }
      ]
    },
    {
      "cell_type": "code",
      "source": [
        "zeroes = torch.zeros(size=(3,224,224))\n",
        "zeroes"
      ],
      "metadata": {
        "colab": {
          "base_uri": "https://localhost:8080/"
        },
        "id": "koRezy-8lyKO",
        "outputId": "23c9b230-2894-4791-9b23-ac8145221202"
      },
      "execution_count": null,
      "outputs": [
        {
          "output_type": "execute_result",
          "data": {
            "text/plain": [
              "tensor([[[0., 0., 0.,  ..., 0., 0., 0.],\n",
              "         [0., 0., 0.,  ..., 0., 0., 0.],\n",
              "         [0., 0., 0.,  ..., 0., 0., 0.],\n",
              "         ...,\n",
              "         [0., 0., 0.,  ..., 0., 0., 0.],\n",
              "         [0., 0., 0.,  ..., 0., 0., 0.],\n",
              "         [0., 0., 0.,  ..., 0., 0., 0.]],\n",
              "\n",
              "        [[0., 0., 0.,  ..., 0., 0., 0.],\n",
              "         [0., 0., 0.,  ..., 0., 0., 0.],\n",
              "         [0., 0., 0.,  ..., 0., 0., 0.],\n",
              "         ...,\n",
              "         [0., 0., 0.,  ..., 0., 0., 0.],\n",
              "         [0., 0., 0.,  ..., 0., 0., 0.],\n",
              "         [0., 0., 0.,  ..., 0., 0., 0.]],\n",
              "\n",
              "        [[0., 0., 0.,  ..., 0., 0., 0.],\n",
              "         [0., 0., 0.,  ..., 0., 0., 0.],\n",
              "         [0., 0., 0.,  ..., 0., 0., 0.],\n",
              "         ...,\n",
              "         [0., 0., 0.,  ..., 0., 0., 0.],\n",
              "         [0., 0., 0.,  ..., 0., 0., 0.],\n",
              "         [0., 0., 0.,  ..., 0., 0., 0.]]])"
            ]
          },
          "metadata": {},
          "execution_count": 64
        }
      ]
    },
    {
      "cell_type": "code",
      "source": [
        "OP = torch.ones(size=(3,224,224))\n",
        "OP"
      ],
      "metadata": {
        "colab": {
          "base_uri": "https://localhost:8080/"
        },
        "id": "cf4r7YbNl6sf",
        "outputId": "c0b071c2-29f8-434b-c9c1-b72389b0cd39"
      },
      "execution_count": null,
      "outputs": [
        {
          "output_type": "execute_result",
          "data": {
            "text/plain": [
              "tensor([[[1., 1., 1.,  ..., 1., 1., 1.],\n",
              "         [1., 1., 1.,  ..., 1., 1., 1.],\n",
              "         [1., 1., 1.,  ..., 1., 1., 1.],\n",
              "         ...,\n",
              "         [1., 1., 1.,  ..., 1., 1., 1.],\n",
              "         [1., 1., 1.,  ..., 1., 1., 1.],\n",
              "         [1., 1., 1.,  ..., 1., 1., 1.]],\n",
              "\n",
              "        [[1., 1., 1.,  ..., 1., 1., 1.],\n",
              "         [1., 1., 1.,  ..., 1., 1., 1.],\n",
              "         [1., 1., 1.,  ..., 1., 1., 1.],\n",
              "         ...,\n",
              "         [1., 1., 1.,  ..., 1., 1., 1.],\n",
              "         [1., 1., 1.,  ..., 1., 1., 1.],\n",
              "         [1., 1., 1.,  ..., 1., 1., 1.]],\n",
              "\n",
              "        [[1., 1., 1.,  ..., 1., 1., 1.],\n",
              "         [1., 1., 1.,  ..., 1., 1., 1.],\n",
              "         [1., 1., 1.,  ..., 1., 1., 1.],\n",
              "         ...,\n",
              "         [1., 1., 1.,  ..., 1., 1., 1.],\n",
              "         [1., 1., 1.,  ..., 1., 1., 1.],\n",
              "         [1., 1., 1.,  ..., 1., 1., 1.]]])"
            ]
          },
          "metadata": {},
          "execution_count": 65
        }
      ]
    },
    {
      "cell_type": "code",
      "source": [
        "torch.float32"
      ],
      "metadata": {
        "colab": {
          "base_uri": "https://localhost:8080/"
        },
        "id": "vGY7qIKgmCkr",
        "outputId": "d8b2b7c8-7e6a-4242-ee53-779908af7d72"
      },
      "execution_count": null,
      "outputs": [
        {
          "output_type": "execute_result",
          "data": {
            "text/plain": [
              "torch.float32"
            ]
          },
          "metadata": {},
          "execution_count": 66
        }
      ]
    },
    {
      "cell_type": "code",
      "source": [
        "torch.arange(0,10)"
      ],
      "metadata": {
        "colab": {
          "base_uri": "https://localhost:8080/"
        },
        "id": "9JLa1mvOmKEW",
        "outputId": "3e1a3e4c-9979-418a-9db2-fbff437419b5"
      },
      "execution_count": null,
      "outputs": [
        {
          "output_type": "execute_result",
          "data": {
            "text/plain": [
              "tensor([0, 1, 2, 3, 4, 5, 6, 7, 8, 9])"
            ]
          },
          "metadata": {},
          "execution_count": 67
        }
      ]
    },
    {
      "cell_type": "code",
      "source": [
        "one_to_ten = torch.arange(start=0,end=1100,step=12)\n",
        "one_to_ten"
      ],
      "metadata": {
        "colab": {
          "base_uri": "https://localhost:8080/"
        },
        "id": "2vxEnfY-mSjd",
        "outputId": "b0b111df-955e-4d62-839a-1f458c834499"
      },
      "execution_count": null,
      "outputs": [
        {
          "output_type": "execute_result",
          "data": {
            "text/plain": [
              "tensor([   0,   12,   24,   36,   48,   60,   72,   84,   96,  108,  120,  132,\n",
              "         144,  156,  168,  180,  192,  204,  216,  228,  240,  252,  264,  276,\n",
              "         288,  300,  312,  324,  336,  348,  360,  372,  384,  396,  408,  420,\n",
              "         432,  444,  456,  468,  480,  492,  504,  516,  528,  540,  552,  564,\n",
              "         576,  588,  600,  612,  624,  636,  648,  660,  672,  684,  696,  708,\n",
              "         720,  732,  744,  756,  768,  780,  792,  804,  816,  828,  840,  852,\n",
              "         864,  876,  888,  900,  912,  924,  936,  948,  960,  972,  984,  996,\n",
              "        1008, 1020, 1032, 1044, 1056, 1068, 1080, 1092])"
            ]
          },
          "metadata": {},
          "execution_count": 68
        }
      ]
    },
    {
      "cell_type": "code",
      "source": [
        "one_to_ten"
      ],
      "metadata": {
        "colab": {
          "base_uri": "https://localhost:8080/"
        },
        "id": "WBW9lP1CmcMY",
        "outputId": "a0c8e743-df70-4191-ee97-22a2c47b2c39"
      },
      "execution_count": null,
      "outputs": [
        {
          "output_type": "execute_result",
          "data": {
            "text/plain": [
              "tensor([   0,   12,   24,   36,   48,   60,   72,   84,   96,  108,  120,  132,\n",
              "         144,  156,  168,  180,  192,  204,  216,  228,  240,  252,  264,  276,\n",
              "         288,  300,  312,  324,  336,  348,  360,  372,  384,  396,  408,  420,\n",
              "         432,  444,  456,  468,  480,  492,  504,  516,  528,  540,  552,  564,\n",
              "         576,  588,  600,  612,  624,  636,  648,  660,  672,  684,  696,  708,\n",
              "         720,  732,  744,  756,  768,  780,  792,  804,  816,  828,  840,  852,\n",
              "         864,  876,  888,  900,  912,  924,  936,  948,  960,  972,  984,  996,\n",
              "        1008, 1020, 1032, 1044, 1056, 1068, 1080, 1092])"
            ]
          },
          "metadata": {},
          "execution_count": 69
        }
      ]
    },
    {
      "cell_type": "code",
      "source": [],
      "metadata": {
        "id": "KYMGA32npgLk"
      },
      "execution_count": null,
      "outputs": []
    },
    {
      "cell_type": "code",
      "source": [
        "ten_zeroes = torch.zeros_like(input=one_to_ten)\n",
        "ten_zeroes"
      ],
      "metadata": {
        "colab": {
          "base_uri": "https://localhost:8080/"
        },
        "id": "9seZf_GmmhNv",
        "outputId": "78c101c4-d3ee-421a-94be-cab111537bb5"
      },
      "execution_count": null,
      "outputs": [
        {
          "output_type": "execute_result",
          "data": {
            "text/plain": [
              "tensor([0, 0, 0, 0, 0, 0, 0, 0, 0, 0, 0, 0, 0, 0, 0, 0, 0, 0, 0, 0, 0, 0, 0, 0,\n",
              "        0, 0, 0, 0, 0, 0, 0, 0, 0, 0, 0, 0, 0, 0, 0, 0, 0, 0, 0, 0, 0, 0, 0, 0,\n",
              "        0, 0, 0, 0, 0, 0, 0, 0, 0, 0, 0, 0, 0, 0, 0, 0, 0, 0, 0, 0, 0, 0, 0, 0,\n",
              "        0, 0, 0, 0, 0, 0, 0, 0, 0, 0, 0, 0, 0, 0, 0, 0, 0, 0, 0, 0])"
            ]
          },
          "metadata": {},
          "execution_count": 70
        }
      ]
    },
    {
      "cell_type": "code",
      "source": [
        "flaot_32 = torch.tensor([3.0,3.0,5.0], dtype=torch.float16\n",
        "                        , device=None,\n",
        "                        requires_grad=False)\n",
        "flaot_32"
      ],
      "metadata": {
        "colab": {
          "base_uri": "https://localhost:8080/"
        },
        "id": "ZdLPrSOYmx6N",
        "outputId": "6e8da7bf-786d-495a-80c0-63eaa39dbec1"
      },
      "execution_count": null,
      "outputs": [
        {
          "output_type": "execute_result",
          "data": {
            "text/plain": [
              "tensor([3., 3., 5.], dtype=torch.float16)"
            ]
          },
          "metadata": {},
          "execution_count": 71
        }
      ]
    },
    {
      "cell_type": "code",
      "source": [
        "float_16_tensor = flaot_32.type(torch.float16)\n",
        "float_16_tensor"
      ],
      "metadata": {
        "colab": {
          "base_uri": "https://localhost:8080/"
        },
        "id": "bo6G08shnur5",
        "outputId": "7a2f6031-5304-4bec-8bf2-f72bce0752a5"
      },
      "execution_count": null,
      "outputs": [
        {
          "output_type": "execute_result",
          "data": {
            "text/plain": [
              "tensor([3., 3., 5.], dtype=torch.float16)"
            ]
          },
          "metadata": {},
          "execution_count": 72
        }
      ]
    },
    {
      "cell_type": "code",
      "source": [
        "int_32_tenor = torch.tensor([3,6,9],dtype=torch.int32)\n",
        "int_32_tenor"
      ],
      "metadata": {
        "colab": {
          "base_uri": "https://localhost:8080/"
        },
        "id": "ZzQDrCuIoJ_D",
        "outputId": "94d1c700-2848-4fd8-ec0e-ea27d91c00a1"
      },
      "execution_count": null,
      "outputs": [
        {
          "output_type": "execute_result",
          "data": {
            "text/plain": [
              "tensor([3, 6, 9], dtype=torch.int32)"
            ]
          },
          "metadata": {},
          "execution_count": 73
        }
      ]
    },
    {
      "cell_type": "code",
      "source": [
        "float_16_tensor * flaot_32"
      ],
      "metadata": {
        "colab": {
          "base_uri": "https://localhost:8080/"
        },
        "id": "WK5qIOhhoD9u",
        "outputId": "b39c8a54-a424-4e0a-f722-6f69d1b65894"
      },
      "execution_count": null,
      "outputs": [
        {
          "output_type": "execute_result",
          "data": {
            "text/plain": [
              "tensor([ 9.,  9., 25.], dtype=torch.float16)"
            ]
          },
          "metadata": {},
          "execution_count": 74
        }
      ]
    },
    {
      "cell_type": "code",
      "source": [
        "flaot_32 * int_32_tenor"
      ],
      "metadata": {
        "colab": {
          "base_uri": "https://localhost:8080/"
        },
        "id": "pVF1UbpioSJp",
        "outputId": "0f183ec0-fb8a-460c-fda2-cddcea7ed308"
      },
      "execution_count": null,
      "outputs": [
        {
          "output_type": "execute_result",
          "data": {
            "text/plain": [
              "tensor([ 9., 18., 45.], dtype=torch.float16)"
            ]
          },
          "metadata": {},
          "execution_count": 75
        }
      ]
    },
    {
      "cell_type": "code",
      "source": [
        "some_tensor = torch.rand(3,4)\n",
        "some_tensor"
      ],
      "metadata": {
        "colab": {
          "base_uri": "https://localhost:8080/"
        },
        "id": "X1weMaxpoQ3I",
        "outputId": "c08404d3-d193-455f-cfa2-4810bff842b8"
      },
      "execution_count": null,
      "outputs": [
        {
          "output_type": "execute_result",
          "data": {
            "text/plain": [
              "tensor([[0.6700, 0.4018, 0.3229, 0.8939],\n",
              "        [0.8111, 0.4841, 0.2443, 0.4139],\n",
              "        [0.7202, 0.1625, 0.6003, 0.0504]])"
            ]
          },
          "metadata": {},
          "execution_count": 76
        }
      ]
    },
    {
      "cell_type": "code",
      "source": [
        "print(some_tensor)"
      ],
      "metadata": {
        "colab": {
          "base_uri": "https://localhost:8080/"
        },
        "id": "sC4liEqaoqBM",
        "outputId": "f634508d-198c-46d6-8ef0-5d2de561dc99"
      },
      "execution_count": null,
      "outputs": [
        {
          "output_type": "stream",
          "name": "stdout",
          "text": [
            "tensor([[0.6700, 0.4018, 0.3229, 0.8939],\n",
            "        [0.8111, 0.4841, 0.2443, 0.4139],\n",
            "        [0.7202, 0.1625, 0.6003, 0.0504]])\n"
          ]
        }
      ]
    },
    {
      "cell_type": "code",
      "source": [
        "rand_tensor = torch.rand(10,10,10)"
      ],
      "metadata": {
        "id": "L9N8A7HroxT5"
      },
      "execution_count": null,
      "outputs": []
    },
    {
      "cell_type": "code",
      "source": [
        "print(f\"Datatype of tensor: {some_tensor.dtype}\")\n",
        "print(f\"Shape of tensor: {some_tensor.shape}\")\n",
        "print(f\"Device tensor is on: {some_tensor.device}\")"
      ],
      "metadata": {
        "colab": {
          "base_uri": "https://localhost:8080/"
        },
        "id": "YfV6RVvgotN3",
        "outputId": "81447671-07ef-4886-c9e3-d0d638c561e8"
      },
      "execution_count": null,
      "outputs": [
        {
          "output_type": "stream",
          "name": "stdout",
          "text": [
            "Datatype of tensor: torch.float32\n",
            "Shape of tensor: torch.Size([3, 4])\n",
            "Device tensor is on: cpu\n"
          ]
        }
      ]
    },
    {
      "cell_type": "code",
      "source": [
        "tensor = torch.tensor([1,2,3])"
      ],
      "metadata": {
        "id": "_IS8JQYnpi0H"
      },
      "execution_count": null,
      "outputs": []
    },
    {
      "cell_type": "code",
      "source": [
        "tensor + 10\n",
        "tensor * 10\n",
        "tensor - 10"
      ],
      "metadata": {
        "colab": {
          "base_uri": "https://localhost:8080/"
        },
        "id": "sqWYEOTEpqP5",
        "outputId": "f3a29ce4-81db-4327-8e4f-67385b24f593"
      },
      "execution_count": null,
      "outputs": [
        {
          "output_type": "execute_result",
          "data": {
            "text/plain": [
              "tensor([-9, -8, -7])"
            ]
          },
          "metadata": {},
          "execution_count": 81
        }
      ]
    },
    {
      "cell_type": "code",
      "source": [
        "torch.mul(tensor,10)"
      ],
      "metadata": {
        "colab": {
          "base_uri": "https://localhost:8080/"
        },
        "id": "jrE9G3JhpzOU",
        "outputId": "4e8d4c0d-c239-4bed-dc03-76b20e16e78d"
      },
      "execution_count": null,
      "outputs": [
        {
          "output_type": "execute_result",
          "data": {
            "text/plain": [
              "tensor([10, 20, 30])"
            ]
          },
          "metadata": {},
          "execution_count": 82
        }
      ]
    },
    {
      "cell_type": "code",
      "source": [
        "torch.add(tensor,10)"
      ],
      "metadata": {
        "colab": {
          "base_uri": "https://localhost:8080/"
        },
        "id": "pb-nS3bNp8-B",
        "outputId": "af258214-2267-4e43-fd93-fad3477dce8f"
      },
      "execution_count": null,
      "outputs": [
        {
          "output_type": "execute_result",
          "data": {
            "text/plain": [
              "tensor([11, 12, 13])"
            ]
          },
          "metadata": {},
          "execution_count": 83
        }
      ]
    },
    {
      "cell_type": "code",
      "source": [
        "tensor"
      ],
      "metadata": {
        "colab": {
          "base_uri": "https://localhost:8080/"
        },
        "id": "hA9QOOyip_9R",
        "outputId": "fc5f7ba2-e898-4d28-e985-b011e37e42e0"
      },
      "execution_count": null,
      "outputs": [
        {
          "output_type": "execute_result",
          "data": {
            "text/plain": [
              "tensor([1, 2, 3])"
            ]
          },
          "metadata": {},
          "execution_count": 84
        }
      ]
    },
    {
      "cell_type": "code",
      "source": [
        "print(tensor * tensor)"
      ],
      "metadata": {
        "colab": {
          "base_uri": "https://localhost:8080/"
        },
        "id": "Qb10ZAE2qoy-",
        "outputId": "ab8e18d9-c200-425b-be09-e56f72bb5f7c"
      },
      "execution_count": null,
      "outputs": [
        {
          "output_type": "stream",
          "name": "stdout",
          "text": [
            "tensor([1, 4, 9])\n"
          ]
        }
      ]
    },
    {
      "cell_type": "code",
      "source": [
        "torch.matmul(tensor,tensor)"
      ],
      "metadata": {
        "colab": {
          "base_uri": "https://localhost:8080/"
        },
        "id": "GIJRiuwjqr-0",
        "outputId": "eaceaba6-4f31-4002-af2c-e8a661bb82b4"
      },
      "execution_count": null,
      "outputs": [
        {
          "output_type": "execute_result",
          "data": {
            "text/plain": [
              "tensor(14)"
            ]
          },
          "metadata": {},
          "execution_count": 86
        }
      ]
    },
    {
      "cell_type": "code",
      "source": [
        "tensor"
      ],
      "metadata": {
        "colab": {
          "base_uri": "https://localhost:8080/"
        },
        "id": "Q4yHcnXCrBOG",
        "outputId": "5859ef33-7d93-4677-f73b-2af5a2fe1e32"
      },
      "execution_count": null,
      "outputs": [
        {
          "output_type": "execute_result",
          "data": {
            "text/plain": [
              "tensor([1, 2, 3])"
            ]
          },
          "metadata": {},
          "execution_count": 87
        }
      ]
    },
    {
      "cell_type": "code",
      "source": [
        "value = 0\n",
        "for i in range(len(tensor)):\n",
        "    value += tensor[i] * tensor[i]\n",
        "print(value)\n"
      ],
      "metadata": {
        "colab": {
          "base_uri": "https://localhost:8080/"
        },
        "id": "IyCYESdArD2K",
        "outputId": "ca19d1d7-1af4-4084-d902-ab0b27664ea0"
      },
      "execution_count": null,
      "outputs": [
        {
          "output_type": "stream",
          "name": "stdout",
          "text": [
            "tensor(14)\n"
          ]
        }
      ]
    },
    {
      "cell_type": "code",
      "source": [
        "torch.matmul(tensor , tensor)"
      ],
      "metadata": {
        "colab": {
          "base_uri": "https://localhost:8080/"
        },
        "id": "v59A9isVrN5T",
        "outputId": "357ded2c-a749-424b-fe64-1ac2afe15f9a"
      },
      "execution_count": null,
      "outputs": [
        {
          "output_type": "execute_result",
          "data": {
            "text/plain": [
              "tensor(14)"
            ]
          },
          "metadata": {},
          "execution_count": 89
        }
      ]
    },
    {
      "cell_type": "code",
      "source": [
        "torch.matmul(torch.rand(3,10) , torch.rand(10,3))"
      ],
      "metadata": {
        "colab": {
          "base_uri": "https://localhost:8080/"
        },
        "id": "rhFvxHjfrZUv",
        "outputId": "df13d7eb-0654-40b1-c71e-67a5db063704"
      },
      "execution_count": null,
      "outputs": [
        {
          "output_type": "execute_result",
          "data": {
            "text/plain": [
              "tensor([[2.9017, 3.0456, 2.6538],\n",
              "        [3.2032, 2.9812, 2.8217],\n",
              "        [1.9557, 2.2496, 2.2625]])"
            ]
          },
          "metadata": {},
          "execution_count": 90
        }
      ]
    },
    {
      "cell_type": "code",
      "source": [
        "torch.matmul(torch.rand(3,2) , torch.rand(2,3))"
      ],
      "metadata": {
        "colab": {
          "base_uri": "https://localhost:8080/"
        },
        "id": "QPdLsWkbsELW",
        "outputId": "1b9471b8-e87f-4cac-9056-dfcdbab8a3af"
      },
      "execution_count": null,
      "outputs": [
        {
          "output_type": "execute_result",
          "data": {
            "text/plain": [
              "tensor([[0.3320, 0.5003, 0.6212],\n",
              "        [0.1433, 0.2254, 0.2694],\n",
              "        [0.5150, 0.9443, 0.9880]])"
            ]
          },
          "metadata": {},
          "execution_count": 91
        }
      ]
    },
    {
      "cell_type": "code",
      "source": [
        "tensor_A = torch.tensor([[1,2],\n",
        "                         [3,4],\n",
        "                         [5,6]])\n",
        "tensor_b = torch.tensor([[7,10],\n",
        "                         [8,11],\n",
        "                         [9,12]])"
      ],
      "metadata": {
        "id": "7qfOP6pdsKQp"
      },
      "execution_count": null,
      "outputs": []
    },
    {
      "cell_type": "code",
      "source": [
        "tensor_b.shape, tensor_A.shape"
      ],
      "metadata": {
        "colab": {
          "base_uri": "https://localhost:8080/"
        },
        "id": "piY-TWVktad2",
        "outputId": "5c6205a4-dd93-4cb2-cdbf-284b0080ae2c"
      },
      "execution_count": null,
      "outputs": [
        {
          "output_type": "execute_result",
          "data": {
            "text/plain": [
              "(torch.Size([3, 2]), torch.Size([3, 2]))"
            ]
          },
          "metadata": {},
          "execution_count": 93
        }
      ]
    },
    {
      "cell_type": "code",
      "source": [
        "tensor_b.T , tensor_b"
      ],
      "metadata": {
        "colab": {
          "base_uri": "https://localhost:8080/"
        },
        "id": "3Vbvebe8tg4V",
        "outputId": "dfec7b71-4303-441b-8047-9992ff711d9a"
      },
      "execution_count": null,
      "outputs": [
        {
          "output_type": "execute_result",
          "data": {
            "text/plain": [
              "(tensor([[ 7,  8,  9],\n",
              "         [10, 11, 12]]),\n",
              " tensor([[ 7, 10],\n",
              "         [ 8, 11],\n",
              "         [ 9, 12]]))"
            ]
          },
          "metadata": {},
          "execution_count": 94
        }
      ]
    },
    {
      "cell_type": "code",
      "source": [
        "tensor_b.shape"
      ],
      "metadata": {
        "colab": {
          "base_uri": "https://localhost:8080/"
        },
        "id": "ik_Rb6xGt7_Y",
        "outputId": "b36c4e4c-40c5-4c77-a799-c5a2bf1781da"
      },
      "execution_count": null,
      "outputs": [
        {
          "output_type": "execute_result",
          "data": {
            "text/plain": [
              "torch.Size([3, 2])"
            ]
          },
          "metadata": {},
          "execution_count": 95
        }
      ]
    },
    {
      "cell_type": "code",
      "source": [
        "torch.matmul(tensor_A , tensor_b.T)"
      ],
      "metadata": {
        "colab": {
          "base_uri": "https://localhost:8080/"
        },
        "id": "p-jE9rOkuB5N",
        "outputId": "cc0c25d2-8b54-4a58-eefb-49f431057a55"
      },
      "execution_count": null,
      "outputs": [
        {
          "output_type": "execute_result",
          "data": {
            "text/plain": [
              "tensor([[ 27,  30,  33],\n",
              "        [ 61,  68,  75],\n",
              "        [ 95, 106, 117]])"
            ]
          },
          "metadata": {},
          "execution_count": 96
        }
      ]
    },
    {
      "cell_type": "code",
      "source": [
        "print(f\"Tensor: {tensor_A}\\n\")\n",
        "print(f\"Shape of tensor: {tensor_A.shape}\\n\")\n",
        "print(f\"Datatype of tensor: {tensor_A.dtype}\\n\")\n",
        "print(f\"Device tensor is on: {tensor_A.device}\\n\")\n"
      ],
      "metadata": {
        "colab": {
          "base_uri": "https://localhost:8080/"
        },
        "id": "lPSs5VxvuKzV",
        "outputId": "83ce3676-333b-4654-ac69-2a89bd5ea8c4"
      },
      "execution_count": null,
      "outputs": [
        {
          "output_type": "stream",
          "name": "stdout",
          "text": [
            "Tensor: tensor([[1, 2],\n",
            "        [3, 4],\n",
            "        [5, 6]])\n",
            "\n",
            "Shape of tensor: torch.Size([3, 2])\n",
            "\n",
            "Datatype of tensor: torch.int64\n",
            "\n",
            "Device tensor is on: cpu\n",
            "\n"
          ]
        }
      ]
    },
    {
      "cell_type": "code",
      "source": [
        "x=torch.arange(0,100,10)"
      ],
      "metadata": {
        "id": "wpo57KuVvBrn"
      },
      "execution_count": null,
      "outputs": []
    },
    {
      "cell_type": "code",
      "source": [
        "torch.min(x) , torch.max(x)"
      ],
      "metadata": {
        "colab": {
          "base_uri": "https://localhost:8080/"
        },
        "id": "e0HgnDQnuW8v",
        "outputId": "d62ba96e-fca4-4542-8f05-d7ed6446efc9"
      },
      "execution_count": null,
      "outputs": [
        {
          "output_type": "execute_result",
          "data": {
            "text/plain": [
              "(tensor(0), tensor(90))"
            ]
          },
          "metadata": {},
          "execution_count": 99
        }
      ]
    },
    {
      "cell_type": "code",
      "source": [
        "torch.mean(x.type(torch.float32)) , x.type(torch.float32).mean()"
      ],
      "metadata": {
        "colab": {
          "base_uri": "https://localhost:8080/"
        },
        "id": "_iJVnp27vQc-",
        "outputId": "358b0a1d-bae0-4803-ee1b-48e4bbf5c46b"
      },
      "execution_count": null,
      "outputs": [
        {
          "output_type": "execute_result",
          "data": {
            "text/plain": [
              "(tensor(45.), tensor(45.))"
            ]
          },
          "metadata": {},
          "execution_count": 100
        }
      ]
    },
    {
      "cell_type": "code",
      "source": [
        "x"
      ],
      "metadata": {
        "colab": {
          "base_uri": "https://localhost:8080/"
        },
        "id": "PyKah0JvwE7C",
        "outputId": "a549e003-17fd-4cb2-b3d8-c068e2b88bc0"
      },
      "execution_count": null,
      "outputs": [
        {
          "output_type": "execute_result",
          "data": {
            "text/plain": [
              "tensor([ 0, 10, 20, 30, 40, 50, 60, 70, 80, 90])"
            ]
          },
          "metadata": {},
          "execution_count": 101
        }
      ]
    },
    {
      "cell_type": "code",
      "source": [
        "x[0]"
      ],
      "metadata": {
        "colab": {
          "base_uri": "https://localhost:8080/"
        },
        "id": "BS2Dyb5svpi6",
        "outputId": "016bd518-5deb-4d55-e77f-5d9573f1d68b"
      },
      "execution_count": null,
      "outputs": [
        {
          "output_type": "execute_result",
          "data": {
            "text/plain": [
              "tensor(0)"
            ]
          },
          "metadata": {},
          "execution_count": 102
        }
      ]
    },
    {
      "cell_type": "code",
      "source": [
        "x[9]"
      ],
      "metadata": {
        "colab": {
          "base_uri": "https://localhost:8080/"
        },
        "id": "JQ1-uFa-wQpG",
        "outputId": "6599fa3f-25c3-48c2-f553-92620a0303e3"
      },
      "execution_count": null,
      "outputs": [
        {
          "output_type": "execute_result",
          "data": {
            "text/plain": [
              "tensor(90)"
            ]
          },
          "metadata": {},
          "execution_count": 103
        }
      ]
    },
    {
      "cell_type": "code",
      "source": [
        "x = torch.arange(1. , 12.)\n",
        "x, x.shape"
      ],
      "metadata": {
        "colab": {
          "base_uri": "https://localhost:8080/"
        },
        "id": "ew9m1gN-wTwP",
        "outputId": "e8dd9220-0db1-4876-905b-823d9afbffb1"
      },
      "execution_count": null,
      "outputs": [
        {
          "output_type": "execute_result",
          "data": {
            "text/plain": [
              "(tensor([ 1.,  2.,  3.,  4.,  5.,  6.,  7.,  8.,  9., 10., 11.]),\n",
              " torch.Size([11]))"
            ]
          },
          "metadata": {},
          "execution_count": 104
        }
      ]
    },
    {
      "cell_type": "code",
      "source": [
        "x_reshaped = x.reshape(1,11)\n",
        "x_reshaped , x_reshaped.shape"
      ],
      "metadata": {
        "colab": {
          "base_uri": "https://localhost:8080/"
        },
        "id": "Q3wutD8LxBks",
        "outputId": "5a56f6ea-f77f-49fa-ea04-b76fa9528c15"
      },
      "execution_count": null,
      "outputs": [
        {
          "output_type": "execute_result",
          "data": {
            "text/plain": [
              "(tensor([[ 1.,  2.,  3.,  4.,  5.,  6.,  7.,  8.,  9., 10., 11.]]),\n",
              " torch.Size([1, 11]))"
            ]
          },
          "metadata": {},
          "execution_count": 105
        }
      ]
    },
    {
      "cell_type": "code",
      "source": [
        "z = x.view(1,9)"
      ],
      "metadata": {
        "colab": {
          "base_uri": "https://localhost:8080/",
          "height": 146
        },
        "id": "MvIeq0G5xFZC",
        "outputId": "0961c10b-74fc-4cba-804d-c2257d80782e"
      },
      "execution_count": null,
      "outputs": [
        {
          "output_type": "error",
          "ename": "RuntimeError",
          "evalue": "shape '[1, 9]' is invalid for input of size 11",
          "traceback": [
            "\u001b[0;31m---------------------------------------------------------------------------\u001b[0m",
            "\u001b[0;31mRuntimeError\u001b[0m                              Traceback (most recent call last)",
            "\u001b[0;32m/tmp/ipython-input-3451797921.py\u001b[0m in \u001b[0;36m<cell line: 0>\u001b[0;34m()\u001b[0m\n\u001b[0;32m----> 1\u001b[0;31m \u001b[0mz\u001b[0m \u001b[0;34m=\u001b[0m \u001b[0mx\u001b[0m\u001b[0;34m.\u001b[0m\u001b[0mview\u001b[0m\u001b[0;34m(\u001b[0m\u001b[0;36m1\u001b[0m\u001b[0;34m,\u001b[0m\u001b[0;36m9\u001b[0m\u001b[0;34m)\u001b[0m\u001b[0;34m\u001b[0m\u001b[0;34m\u001b[0m\u001b[0m\n\u001b[0m",
            "\u001b[0;31mRuntimeError\u001b[0m: shape '[1, 9]' is invalid for input of size 11"
          ]
        }
      ]
    },
    {
      "cell_type": "code",
      "source": [
        "z,x"
      ],
      "metadata": {
        "id": "DT1MZml7xmaD"
      },
      "execution_count": null,
      "outputs": []
    },
    {
      "cell_type": "code",
      "source": [
        "x_stacked = torch.stack([x,x,x,], dim = 0)\n",
        "x_stacked"
      ],
      "metadata": {
        "id": "HpEsTIhexplM"
      },
      "execution_count": null,
      "outputs": []
    },
    {
      "cell_type": "code",
      "source": [
        "print(f\"Previous tensor: {x_reshaped}\")\n",
        "print(f\"Previous shape: {x_reshaped.shape}\")\n",
        "\n",
        "x_squeezed = x_reshaped.squeeze()\n",
        "print(f\"\\nNew tensor: {x_squeezed}\")"
      ],
      "metadata": {
        "id": "9K3TPke_x5VC"
      },
      "execution_count": null,
      "outputs": []
    },
    {
      "cell_type": "code",
      "source": [
        "x_reshaped.squeeze()\n",
        "\n",
        "[x_reshaped.squeeze()]"
      ],
      "metadata": {
        "id": "m-H9PR8tzi2a"
      },
      "execution_count": null,
      "outputs": []
    },
    {
      "cell_type": "code",
      "source": [
        "x_squeezed = x_reshaped.squeeze()\n",
        "print(f\"\\nNew tensor: {x_squeezed}\")\n",
        "print(f\"New shape: {x_squeezed.shape}\")"
      ],
      "metadata": {
        "id": "Y9LfA1Rkztt-"
      },
      "execution_count": null,
      "outputs": []
    },
    {
      "cell_type": "code",
      "source": [
        "x_unsqueezed = x_squeezed.unsqueeze(dim=1)\n",
        "print(f\"\\nNew tensor: {x_unsqueezed}\")\n",
        "print(f\"New shape: {x_unsqueezed.shape}\")"
      ],
      "metadata": {
        "id": "f-AYTbzmz1QJ"
      },
      "execution_count": null,
      "outputs": []
    },
    {
      "cell_type": "code",
      "source": [
        "x_orignal = torch.rand(size=(224,224,3))\n",
        "x_permuted = x_orignal.permute(2,0,1)\n",
        "x_orignal.shape , x_permuted.shape\n",
        "print(f\"Previous shape: {x_orignal.shape}\")\n",
        "print(f\"New shape: {x_permuted.shape}\")"
      ],
      "metadata": {
        "id": "g-NUqaNe0d4H"
      },
      "execution_count": null,
      "outputs": []
    },
    {
      "cell_type": "code",
      "source": [
        "x_orignal[0,0,0] = 728218\n",
        "x_orignal[0,0,0] , x_permuted[0,0,0]"
      ],
      "metadata": {
        "id": "lxVxM_WB0xux"
      },
      "execution_count": null,
      "outputs": []
    },
    {
      "cell_type": "code",
      "source": [
        "import torch\n",
        "x = torch.arange(1, 10) .reshape(1,3,3)\n",
        "x, x.shape"
      ],
      "metadata": {
        "id": "UTGxFp5v1Hl3"
      },
      "execution_count": null,
      "outputs": []
    },
    {
      "cell_type": "code",
      "source": [
        "x[0]\n",
        "x[0][0]"
      ],
      "metadata": {
        "id": "1yWT_nXW1Q7U"
      },
      "execution_count": null,
      "outputs": []
    },
    {
      "cell_type": "code",
      "source": [
        "x[0][0][1]"
      ],
      "metadata": {
        "id": "cVDCAvD81Yfn"
      },
      "execution_count": null,
      "outputs": []
    },
    {
      "cell_type": "code",
      "source": [
        "x[0,0:,2]"
      ],
      "metadata": {
        "id": "_pwMvbi01b_o"
      },
      "execution_count": null,
      "outputs": []
    },
    {
      "cell_type": "code",
      "source": [
        "import numpy as np\n",
        "import torch\n",
        "array = np.arange(1.0 , 8.0)\n",
        "tensor = torch.from_numpy(array)\n",
        "array , tensor"
      ],
      "metadata": {
        "id": "NMs1RaWe2Gzy"
      },
      "execution_count": null,
      "outputs": []
    },
    {
      "cell_type": "code",
      "source": [
        "array =+ 1\n",
        "array , tensor"
      ],
      "metadata": {
        "id": "Atvnqw2h7dNL"
      },
      "execution_count": null,
      "outputs": []
    },
    {
      "cell_type": "code",
      "source": [
        "tensor = torch.ones(7)\n",
        "numpy_tensor = tensor.numpy()\n",
        "tensor , numpy_tensor"
      ],
      "metadata": {
        "id": "dXg6O0Rl7p01"
      },
      "execution_count": null,
      "outputs": []
    },
    {
      "cell_type": "code",
      "source": [
        "tensor =+ 1\n",
        "tensor"
      ],
      "metadata": {
        "id": "CrjgZWn67zHX"
      },
      "execution_count": null,
      "outputs": []
    },
    {
      "cell_type": "code",
      "source": [
        "random_tensor_a = torch.rand(3,4)\n",
        "random_tensor_b = torch.rand(3,4)\n",
        "print(random_tensor_a)\n",
        "print(random_tensor_b)\n",
        "print(random_tensor_a == random_tensor_b)"
      ],
      "metadata": {
        "id": "9xpk00so73kN"
      },
      "execution_count": null,
      "outputs": []
    },
    {
      "cell_type": "code",
      "source": [
        "RANDOM_SEED = (42)\n",
        "torch.manual_seed(RANDOM_SEED)\n",
        "random_tensor_c = torch.rand(3,4)\n",
        "torch.manual_seed(RANDOM_SEED)\n",
        "random_tensor_d = torch.rand(3,4)\n",
        "print(random_tensor_c)\n",
        "print(random_tensor_d)\n",
        "print(random_tensor_c == random_tensor_d)"
      ],
      "metadata": {
        "id": "kBICGwlm8eaY"
      },
      "execution_count": null,
      "outputs": []
    },
    {
      "cell_type": "code",
      "source": [
        "import torch\n",
        "torch.cuda.is_available()"
      ],
      "metadata": {
        "colab": {
          "base_uri": "https://localhost:8080/"
        },
        "id": "6KMfMPpa87QR",
        "outputId": "2082f001-c793-47cb-8355-6ee6b4c7aef3"
      },
      "execution_count": null,
      "outputs": [
        {
          "output_type": "execute_result",
          "data": {
            "text/plain": [
              "True"
            ]
          },
          "metadata": {},
          "execution_count": 2
        }
      ]
    },
    {
      "cell_type": "code",
      "source": [
        "device =\"cuda\" if torch.cuda.is_available() else \"cpu\"\n",
        "device"
      ],
      "metadata": {
        "colab": {
          "base_uri": "https://localhost:8080/",
          "height": 36
        },
        "id": "MsRzZ8Qg-Iti",
        "outputId": "b08cf6c2-34c2-4134-8fec-2b8d2696e252"
      },
      "execution_count": null,
      "outputs": [
        {
          "output_type": "execute_result",
          "data": {
            "text/plain": [
              "'cuda'"
            ],
            "application/vnd.google.colaboratory.intrinsic+json": {
              "type": "string"
            }
          },
          "metadata": {},
          "execution_count": 4
        }
      ]
    },
    {
      "cell_type": "code",
      "source": [
        "tensor = torch.tensor([1,2,3])\n",
        "print(tensor,tensor.device)"
      ],
      "metadata": {
        "colab": {
          "base_uri": "https://localhost:8080/"
        },
        "id": "ED5_kbOj-mMx",
        "outputId": "04358f0c-ddb1-4799-92d7-33bda20e98fc"
      },
      "execution_count": null,
      "outputs": [
        {
          "output_type": "stream",
          "name": "stdout",
          "text": [
            "tensor([1, 2, 3]) cpu\n"
          ]
        }
      ]
    },
    {
      "cell_type": "code",
      "source": [
        "tensor_on_gpu =tensor.to(device)\n",
        "tensor_on_gpu"
      ],
      "metadata": {
        "colab": {
          "base_uri": "https://localhost:8080/"
        },
        "id": "pJX14YTv-yvy",
        "outputId": "df009b1c-02b7-4c20-aed7-d2fb9ea841e5"
      },
      "execution_count": null,
      "outputs": [
        {
          "output_type": "execute_result",
          "data": {
            "text/plain": [
              "tensor([1, 2, 3], device='cuda:0')"
            ]
          },
          "metadata": {},
          "execution_count": 7
        }
      ]
    },
    {
      "cell_type": "code",
      "source": [
        "tensor_back_on_cpu = tensor_on_gpu.cpu().numpy()\n",
        "tensor_back_on_cpu"
      ],
      "metadata": {
        "colab": {
          "base_uri": "https://localhost:8080/"
        },
        "id": "_StEUwuK--0F",
        "outputId": "026908d1-0760-4ba0-bd9f-9b7f02920ffe"
      },
      "execution_count": null,
      "outputs": [
        {
          "output_type": "execute_result",
          "data": {
            "text/plain": [
              "array([1, 2, 3])"
            ]
          },
          "metadata": {},
          "execution_count": 9
        }
      ]
    },
    {
      "cell_type": "code",
      "source": [
        "torch.rand(7,7)"
      ],
      "metadata": {
        "colab": {
          "base_uri": "https://localhost:8080/"
        },
        "id": "j4rHhczW_TLt",
        "outputId": "871c42d5-aa71-4eb6-915d-80c56d6f885c"
      },
      "execution_count": null,
      "outputs": [
        {
          "output_type": "execute_result",
          "data": {
            "text/plain": [
              "tensor([[0.6287, 0.4778, 0.5222, 0.1466, 0.7072, 0.7361, 0.5486],\n",
              "        [0.9882, 0.8676, 0.6539, 0.9288, 0.5022, 0.5773, 0.8957],\n",
              "        [0.0827, 0.6159, 0.3979, 0.4597, 0.9377, 0.0214, 0.0481],\n",
              "        [0.6718, 0.0142, 0.6210, 0.7183, 0.9036, 0.3820, 0.7212],\n",
              "        [0.1381, 0.5263, 0.5464, 0.5624, 0.1541, 0.2073, 0.0952],\n",
              "        [0.5167, 0.2078, 0.9625, 0.3091, 0.3588, 0.3499, 0.3326],\n",
              "        [0.1035, 0.8705, 0.5392, 0.8790, 0.0648, 0.0834, 0.6008]])"
            ]
          },
          "metadata": {},
          "execution_count": 10
        }
      ]
    },
    {
      "cell_type": "code",
      "source": [],
      "metadata": {
        "id": "eZ6dehmn_uK1"
      },
      "execution_count": null,
      "outputs": []
    }
  ]
}