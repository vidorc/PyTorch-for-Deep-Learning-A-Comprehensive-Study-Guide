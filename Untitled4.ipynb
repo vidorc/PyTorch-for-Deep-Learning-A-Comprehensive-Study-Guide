{
  "nbformat": 4,
  "nbformat_minor": 0,
  "metadata": {
    "colab": {
      "provenance": [],
      "gpuType": "T4",
      "authorship_tag": "ABX9TyNQcXNe23g0QAOoIuviNt6l",
      "include_colab_link": true
    },
    "kernelspec": {
      "name": "python3",
      "display_name": "Python 3"
    },
    "language_info": {
      "name": "python"
    },
    "accelerator": "GPU"
  },
  "cells": [
    {
      "cell_type": "markdown",
      "metadata": {
        "id": "view-in-github",
        "colab_type": "text"
      },
      "source": [
        "<a href=\"https://colab.research.google.com/github/vidorc/PyTorch-for-Deep-Learning-A-Comprehensive-Study-Guide/blob/main/Untitled4.ipynb\" target=\"_parent\"><img src=\"https://colab.research.google.com/assets/colab-badge.svg\" alt=\"Open In Colab\"/></a>"
      ]
    },
    {
      "cell_type": "markdown",
      "source": [],
      "metadata": {
        "id": "ajNAi4_2iNUC"
      }
    },
    {
      "cell_type": "code",
      "execution_count": 1,
      "metadata": {
        "colab": {
          "base_uri": "https://localhost:8080/",
          "height": 36
        },
        "id": "BlArW--UytvI",
        "outputId": "b37a01f1-2523-4d1c-c7d9-111ca5eaeb11"
      },
      "outputs": [
        {
          "output_type": "execute_result",
          "data": {
            "text/plain": [
              "'2.6.0+cu124'"
            ],
            "application/vnd.google.colaboratory.intrinsic+json": {
              "type": "string"
            }
          },
          "metadata": {},
          "execution_count": 1
        }
      ],
      "source": [
        "\n",
        "import torch\n",
        "from torch import nn\n",
        "import matplotlib.pyplot as plt\n",
        "from sklearn.model_selection import train_test_split\n",
        "torch.__version__\n",
        ""
      ]
    },
    {
      "cell_type": "code",
      "source": [
        "weight = 0.1\n",
        "bias = 0.3\n",
        "start = 0\n",
        "end = 1\n",
        "step = 0.01\n",
        "x = torch.arange(start,end,step).unsqueeze(dim=1)\n",
        "y = weight * x + bias\n",
        "x[:10] , y[:10]"
      ],
      "metadata": {
        "colab": {
          "base_uri": "https://localhost:8080/"
        },
        "id": "S_TKphSfiXct",
        "outputId": "d053a98d-02c3-4669-b613-b71b82a3ab80"
      },
      "execution_count": 2,
      "outputs": [
        {
          "output_type": "execute_result",
          "data": {
            "text/plain": [
              "(tensor([[0.0000],\n",
              "         [0.0100],\n",
              "         [0.0200],\n",
              "         [0.0300],\n",
              "         [0.0400],\n",
              "         [0.0500],\n",
              "         [0.0600],\n",
              "         [0.0700],\n",
              "         [0.0800],\n",
              "         [0.0900]]),\n",
              " tensor([[0.3000],\n",
              "         [0.3010],\n",
              "         [0.3020],\n",
              "         [0.3030],\n",
              "         [0.3040],\n",
              "         [0.3050],\n",
              "         [0.3060],\n",
              "         [0.3070],\n",
              "         [0.3080],\n",
              "         [0.3090]]))"
            ]
          },
          "metadata": {},
          "execution_count": 2
        }
      ]
    },
    {
      "cell_type": "code",
      "source": [
        "train_split = int(0.8 * len(x))\n",
        "x_train , y_train = x[:train_split] , y[:train_split]\n",
        "x_test , y_test = x[train_split:] , y[train_split:]\n",
        "len(x_train) , len(y_train) , len(x_test) , len(y_test)"
      ],
      "metadata": {
        "colab": {
          "base_uri": "https://localhost:8080/"
        },
        "id": "Q_Hl2PVXisqo",
        "outputId": "22bb1da6-f804-4744-ae7a-43bc2e18e2c0"
      },
      "execution_count": 3,
      "outputs": [
        {
          "output_type": "execute_result",
          "data": {
            "text/plain": [
              "(80, 80, 20, 20)"
            ]
          },
          "metadata": {},
          "execution_count": 3
        }
      ]
    },
    {
      "cell_type": "code",
      "source": [
        "def plot_predictions(train_data=x_train,\n",
        "                      train_labels=y_train,\n",
        "                      test_data=x_test,\n",
        "                      test_labels=y_test,\n",
        "                      predictions=None):\n",
        "  plt.figure(figsize=(10, 7))\n",
        "  plt.scatter(train_data, train_labels, c=\"b\", s=4, label=\"Training data\")\n",
        "  plt.scatter(test_data, test_labels, c=\"g\", s=4, label=\"Testing data\")\n",
        "  if predictions is not None:\n",
        "    plt.scatter(test_data, predictions, c=\"r\", s=4, label=\"Predictions\")\n",
        "    plt.legend(prop={\"size\":14});"
      ],
      "metadata": {
        "id": "xGppW_yNitdq"
      },
      "execution_count": 4,
      "outputs": []
    },
    {
      "cell_type": "code",
      "source": [
        "plot_predictions(x_train, y_train, x_test ,y_test)"
      ],
      "metadata": {
        "colab": {
          "base_uri": "https://localhost:8080/",
          "height": 599
        },
        "id": "TbI0G79LjOJ5",
        "outputId": "a88b5a03-9f39-48f7-fb94-124cecb9d954"
      },
      "execution_count": 5,
      "outputs": [
        {
          "output_type": "display_data",
          "data": {
            "text/plain": [
              "<Figure size 1000x700 with 1 Axes>"
            ],
            "image/png": "[encoded data removed]"
          },
          "metadata": {}
        }
      ]
    },
    {
      "cell_type": "code",
      "source": [
        "class LinearRegressionModel1V2(nn.Module):\n",
        "  def __init__(self):\n",
        "    super().__init__()\n",
        "    self.linear_layer = nn.Linear(in_features=1,\n",
        "                                  out_features=1)\n",
        "  def forward(self, x: torch.Tensor) -> torch.Tensor:\n",
        "    return self.linear_layer(x)\n",
        "\n",
        "torch.manual_seed(42)\n",
        "model_1 = LinearRegressionModel1V2()\n",
        "print(model_1 , model_1.state_dict())\n",
        "print(list(model_1.parameters()))"
      ],
      "metadata": {
        "colab": {
          "base_uri": "https://localhost:8080/"
        },
        "id": "RwF3_8L5jY7u",
        "outputId": "ae95a32a-9d25-416c-be4f-f1eb3fc0a647"
      },
      "execution_count": 8,
      "outputs": [
        {
          "output_type": "stream",
          "name": "stdout",
          "text": [
            "LinearRegressionModel1V2(\n",
            "  (linear_layer): Linear(in_features=1, out_features=1, bias=True)\n",
            ") OrderedDict([('linear_layer.weight', tensor([[0.7645]])), ('linear_layer.bias', tensor([0.8300]))])\n",
            "[Parameter containing:\n",
            "tensor([[0.7645]], requires_grad=True), Parameter containing:\n",
            "tensor([0.8300], requires_grad=True)]\n"
          ]
        }
      ]
    },
    {
      "cell_type": "code",
      "source": [
        "next(model_1.parameters()).device\n"
      ],
      "metadata": {
        "colab": {
          "base_uri": "https://localhost:8080/"
        },
        "id": "XFRxG4SckgWG",
        "outputId": "3ca6d181-00d8-4a4c-eb38-20de89b15c2e"
      },
      "execution_count": 9,
      "outputs": [
        {
          "output_type": "execute_result",
          "data": {
            "text/plain": [
              "device(type='cpu')"
            ]
          },
          "metadata": {},
          "execution_count": 9
        }
      ]
    },
    {
      "cell_type": "code",
      "source": [
        "device = \"cuda\" if torch.cuda.is_available() else \"cpu\"\n",
        "model_1.to(device)\n",
        "next(model_1.parameters()).device"
      ],
      "metadata": {
        "colab": {
          "base_uri": "https://localhost:8080/"
        },
        "id": "GXSTY7x8k7tM",
        "outputId": "4d80d793-06d4-4339-c062-1f7fcb4dcaaa"
      },
      "execution_count": 14,
      "outputs": [
        {
          "output_type": "execute_result",
          "data": {
            "text/plain": [
              "device(type='cuda', index=0)"
            ]
          },
          "metadata": {},
          "execution_count": 14
        }
      ]
    },
    {
      "cell_type": "code",
      "source": [
        "model_1.state_dict()"
      ],
      "metadata": {
        "colab": {
          "base_uri": "https://localhost:8080/"
        },
        "id": "Mo5KOmmnlXI3",
        "outputId": "7d7e8556-5f84-4b0e-a290-630e96dc5bf2"
      },
      "execution_count": 15,
      "outputs": [
        {
          "output_type": "execute_result",
          "data": {
            "text/plain": [
              "OrderedDict([('linear_layer.weight', tensor([[0.7645]], device='cuda:0')),\n",
              "             ('linear_layer.bias', tensor([0.8300], device='cuda:0'))])"
            ]
          },
          "metadata": {},
          "execution_count": 15
        }
      ]
    },
    {
      "cell_type": "code",
      "source": [
        "loss_fn = nn.L1Loss()\n",
        "optimixer = torch.optim.SGD(params=model_1.parameters(),\n",
        "                            lr=0.01)\n",
        "epochs = 200\n",
        "x_train = x_train.to(device)\n",
        "y_train = y_train.to(device)\n",
        "x_test = x_test.to(device)\n",
        "y_test = y_test.to(device)\n",
        "\n",
        "for epoch in range(epochs):\n",
        "  model_1.train()\n",
        "  y_pred = model_1(x_train)\n",
        "  loss = loss_fn(y_pred,y_train)\n",
        "  optimixer.zero_grad()\n",
        "  loss.backward()\n",
        "  optimixer.step()\n",
        "  model_1.eval()\n",
        "  with torch.inference_mode():\n",
        "    test_pred = model_1(x_test)\n",
        "    test_loss = loss_fn(test_pred,y_test)\n",
        "    if epoch % 10 == 0:\n",
        "      print(f\"Epoch: {epoch} | Loss: {loss} | Test Loss: {test_loss}\")"
      ],
      "metadata": {
        "colab": {
          "base_uri": "https://localhost:8080/"
        },
        "id": "exSBOglVlcGY",
        "outputId": "75c144be-9b9f-4094-edff-101e7dbf3e8c"
      },
      "execution_count": 18,
      "outputs": [
        {
          "output_type": "stream",
          "name": "stdout",
          "text": [
            "Epoch: 0 | Loss: 0.7925006747245789 | Test Loss: 1.1112346649169922\n",
            "Epoch: 10 | Loss: 0.676898181438446 | Test Loss: 0.9758822321891785\n",
            "Epoch: 20 | Loss: 0.5612958669662476 | Test Loss: 0.8405298590660095\n",
            "Epoch: 30 | Loss: 0.44569340348243713 | Test Loss: 0.7051774263381958\n",
            "Epoch: 40 | Loss: 0.3300909996032715 | Test Loss: 0.5698250532150269\n",
            "Epoch: 50 | Loss: 0.21448861062526703 | Test Loss: 0.4344726502895355\n",
            "Epoch: 60 | Loss: 0.12147193402051926 | Test Loss: 0.31500113010406494\n",
            "Epoch: 70 | Loss: 0.08639347553253174 | Test Loss: 0.24028201401233673\n",
            "Epoch: 80 | Loss: 0.07425608485937119 | Test Loss: 0.19672439992427826\n",
            "Epoch: 90 | Loss: 0.06878620386123657 | Test Loss: 0.17178666591644287\n",
            "Epoch: 100 | Loss: 0.06496669352054596 | Test Loss: 0.15592370927333832\n",
            "Epoch: 110 | Loss: 0.06147914007306099 | Test Loss: 0.14483605325222015\n",
            "Epoch: 120 | Loss: 0.058044351637363434 | Test Loss: 0.13650022447109222\n",
            "Epoch: 130 | Loss: 0.05461909994482994 | Test Loss: 0.1281644105911255\n",
            "Epoch: 140 | Loss: 0.051193155348300934 | Test Loss: 0.12017257511615753\n",
            "Epoch: 150 | Loss: 0.047767069190740585 | Test Loss: 0.11218073219060898\n",
            "Epoch: 160 | Loss: 0.04434177279472351 | Test Loss: 0.10384490340948105\n",
            "Epoch: 170 | Loss: 0.04091588035225868 | Test Loss: 0.09585308283567429\n",
            "Epoch: 180 | Loss: 0.037489790469408035 | Test Loss: 0.08786123991012573\n",
            "Epoch: 190 | Loss: 0.03406445309519768 | Test Loss: 0.079525426030159\n"
          ]
        }
      ]
    },
    {
      "cell_type": "code",
      "source": [
        "model_1.state_dict()"
      ],
      "metadata": {
        "colab": {
          "base_uri": "https://localhost:8080/"
        },
        "id": "mw5eLrLPmal1",
        "outputId": "c11ea972-1f7e-4f78-9e32-43ff019f3965"
      },
      "execution_count": 20,
      "outputs": [
        {
          "output_type": "execute_result",
          "data": {
            "text/plain": [
              "OrderedDict([('linear_layer.weight', tensor([[0.2526]], device='cuda:0')),\n",
              "             ('linear_layer.bias', tensor([0.2358], device='cuda:0'))])"
            ]
          },
          "metadata": {},
          "execution_count": 20
        }
      ]
    },
    {
      "cell_type": "code",
      "source": [
        "from pathlib import Path\n",
        "MODEL_PATH = Path(\"models\")\n",
        "MODEL_PATH.mkdir(parents=True, exist_ok=True)\n",
        "MODEL_NAME = \"01_pytorch_workflow_model_1.pth\"\n",
        "MODEL_SAVE_PATH = MODEL_PATH / MODEL_NAME\n",
        "torch.save(obj=model_1.state_dict(),\n",
        "           f=MODEL_SAVE_PATH)"
      ],
      "metadata": {
        "id": "PIGTYvrcmsVx"
      },
      "execution_count": 21,
      "outputs": []
    },
    {
      "cell_type": "code",
      "source": [
        "loaded_model_1 = LinearRegressionModel1V2()\n",
        "loaded_model_1.load_state_dict(torch.load(MODEL_SAVE_PATH))"
      ],
      "metadata": {
        "colab": {
          "base_uri": "https://localhost:8080/"
        },
        "id": "EpXpYnvCnfsl",
        "outputId": "796aa1e7-d0fd-4372-e815-1c99ce616321"
      },
      "execution_count": 22,
      "outputs": [
        {
          "output_type": "execute_result",
          "data": {
            "text/plain": [
              "<All keys matched successfully>"
            ]
          },
          "metadata": {},
          "execution_count": 22
        }
      ]
    },
    {
      "cell_type": "code",
      "source": [
        "next(loaded_model_1.parameters()).device"
      ],
      "metadata": {
        "colab": {
          "base_uri": "https://localhost:8080/"
        },
        "id": "g9ayhuj6nvnd",
        "outputId": "4c9068ff-4b96-41a1-fb22-2f5f4853f8d2"
      },
      "execution_count": 23,
      "outputs": [
        {
          "output_type": "execute_result",
          "data": {
            "text/plain": [
              "device(type='cpu')"
            ]
          },
          "metadata": {},
          "execution_count": 23
        }
      ]
    },
    {
      "cell_type": "code",
      "source": [
        "loaded_model_1.to(device) # Move the loaded model to the same device as x_test\n",
        "loaded_model_1.eval()\n",
        "with torch.inference_mode():\n",
        "  loaded_model_1_preds = loaded_model_1(x_test)\n",
        "\n",
        "model_1.eval()\n",
        "with torch.inference_mode():\n",
        "    y_preds = model_1(x_test)\n",
        "\n",
        "print(f\"Loaded model predictions: {loaded_model_1_preds[:5]}\")\n",
        "print(f\"Original model predictions: {y_preds[:5]}\")\n",
        "print(f\"Do loaded model predictions equal original model predictions: {torch.allclose(loaded_model_1_preds, y_preds)}\")"
      ],
      "metadata": {
        "colab": {
          "base_uri": "https://localhost:8080/"
        },
        "id": "YXs_wiCUoORK",
        "outputId": "3e4df4e8-9446-45c2-c77b-5ef6d4b3538a"
      },
      "execution_count": 27,
      "outputs": [
        {
          "output_type": "stream",
          "name": "stdout",
          "text": [
            "Loaded model predictions: tensor([[0.4378],\n",
            "        [0.4403],\n",
            "        [0.4429],\n",
            "        [0.4454],\n",
            "        [0.4479]], device='cuda:0')\n",
            "Original model predictions: tensor([[0.4378],\n",
            "        [0.4403],\n",
            "        [0.4429],\n",
            "        [0.4454],\n",
            "        [0.4479]], device='cuda:0')\n",
            "Do loaded model predictions equal original model predictions: True\n"
          ]
        }
      ]
    },
    {
      "cell_type": "code",
      "source": [],
      "metadata": {
        "id": "kAnPXkNSoYwA"
      },
      "execution_count": null,
      "outputs": []
    },
    {
      "cell_type": "code",
      "metadata": {
        "colab": {
          "base_uri": "https://localhost:8080/",
          "height": 599
        },
        "id": "1cbae870",
        "outputId": "e6e31b7f-1f23-4996-a5fa-ec398318f43a"
      },
      "source": [
        "plot_predictions(predictions=loaded_model_1_preds.cpu()) # predictions are on GPU, so need to move to CPU for matplotlib"
      ],
      "execution_count": 28,
      "outputs": [
        {
          "output_type": "display_data",
          "data": {
            "text/plain": [
              "<Figure size 1000x700 with 1 Axes>"
            ],
            "image/png": "[encoded data removed]"
          },
          "metadata": {}
        }
      ]
    }
  ]
}